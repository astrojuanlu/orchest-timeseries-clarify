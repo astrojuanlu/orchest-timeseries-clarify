{
 "cells": [
  {
   "cell_type": "code",
   "execution_count": null,
   "metadata": {},
   "outputs": [],
   "source": [
    "import requests\n",
    "\n",
    "import orchest"
   ]
  },
  {
   "cell_type": "code",
   "execution_count": null,
   "metadata": {},
   "outputs": [],
   "source": [
    "has_anomalies, anomalies = orchest.get_inputs()[\"anomalies\"]\n",
    "event_name = \"orchest_webhook_incoming\"\n",
    "# webhooks_key = os.environ[\"IFTTT_WEBHOOKS_KEY\"]\n",
    "webhooks_key = \"nTqzmXZStdh85ufVgSlAzZjbA-0xc5N-u8BcNPn6YER\""
   ]
  },
  {
   "cell_type": "code",
   "execution_count": null,
   "metadata": {},
   "outputs": [],
   "source": [
    "if has_anomalies:\n",
    "    result = requests.post(\n",
    "        f\"https://maker.ifttt.com/trigger/{event_name}\"\n",
    "        f\"/json/with/key/{webhooks_key}\",\n",
    "        json={\n",
    "            \"anomalies_found\": len(anomalies)\n",
    "        },\n",
    "    )\n",
    "    result.raise_for_status()\n",
    "    print(result.text)"
   ]
  }
 ],
 "metadata": {
  "kernelspec": {
   "display_name": "Python 3",
   "language": "python",
   "name": "orchest-kernel-de413fa4-dbc7-4d6a-9008-ca5faf512fe7"
  },
  "language_info": {
   "codemirror_mode": {
    "name": "ipython",
    "version": 3
   },
   "file_extension": ".py",
   "mimetype": "text/x-python",
   "name": "python",
   "nbconvert_exporter": "python",
   "pygments_lexer": "ipython3",
   "version": "3.9.10"
  }
 },
 "nbformat": 4,
 "nbformat_minor": 4
}
