{
 "cells": [
  {
   "cell_type": "code",
   "execution_count": 1,
   "id": "00c8ddbe-e7d0-4335-8337-929b0078ffc4",
   "metadata": {},
   "outputs": [],
   "source": [
    "import os\n",
    "import datetime as dt\n",
    "from pyclarify import ClarifyClient, query\n",
    "import orchest\n",
    "\n",
    "credentials = os.environ[\"CLARIFY_CREDENTIALS\"]\n",
    "client = ClarifyClient(credentials)"
   ]
  },
  {
   "cell_type": "code",
   "execution_count": 2,
   "id": "52d98cf8-b0f5-4a6d-b7a0-877a55a5c02b",
   "metadata": {},
   "outputs": [],
   "source": [
    "ts_last_hours = orchest.get_step_param(\"ts_last_hours\")\n",
    "\n",
    "ts_start = (\n",
    "    (dt.datetime.today() - dt.timedelta(hours=ts_last_hours))\n",
    "    if ts_last_hours\n",
    "    else dt.datetime(2021, 8, 10, 0)\n",
    ")\n",
    "item_id = orchest.get_step_param(\"item_id\")"
   ]
  },
  {
   "cell_type": "code",
   "execution_count": 3,
   "id": "a0c177c4-6166-4af5-8b77-17df89a758d0",
   "metadata": {},
   "outputs": [],
   "source": [
    "query_filter = query.Filter(fields={\"id\": query.In(value=[item_id])})\n",
    "response = client.select_items(\n",
    "    filter=query_filter,\n",
    "    not_before=ts_start,  # minimum date\n",
    "    before=dt.datetime.today(),  # maximum date\n",
    "    include_metadata=False\n",
    ")"
   ]
  },
  {
   "cell_type": "code",
   "execution_count": 4,
   "id": "f4a86e44-683d-46c1-89ce-fbf697e3767e",
   "metadata": {},
   "outputs": [],
   "source": [
    "signal = (\n",
    "    response.result.data.to_pandas()\n",
    "    [item_id]  # convert to Series\n",
    "    .drop_duplicates()  # sanity check\n",
    "    .asfreq(\"H\")  # fill gaps\n",
    "    .rename(\"traffic\")  # use explicit name\n",
    ")"
   ]
  },
  {
   "cell_type": "code",
   "execution_count": 5,
   "id": "c3ec2719-38bc-4ce6-903d-9a33a5e393a2",
   "metadata": {},
   "outputs": [
    {
     "data": {
      "text/plain": [
       "2021-08-10 12:30:00+00:00    6565.0\n",
       "2021-08-10 13:30:00+00:00    7361.0\n",
       "2021-08-10 14:30:00+00:00    6162.0\n",
       "2021-08-10 15:30:00+00:00    6242.0\n",
       "2021-08-10 16:30:00+00:00    4990.0\n",
       "Freq: H, Name: traffic, dtype: float64"
      ]
     },
     "execution_count": 5,
     "metadata": {},
     "output_type": "execute_result"
    }
   ],
   "source": [
    "signal.head()"
   ]
  },
  {
   "cell_type": "code",
   "execution_count": 6,
   "id": "6f596ed7-6499-4de0-87b3-8e8176900909",
   "metadata": {},
   "outputs": [],
   "source": [
    "orchest.output(signal, name=\"timeseries\")"
   ]
  },
  {
   "cell_type": "code",
   "execution_count": null,
   "id": "fc9175f9-8b49-4865-863f-a65d9fa43725",
   "metadata": {},
   "outputs": [],
   "source": []
  }
 ],
 "metadata": {
  "kernelspec": {
   "display_name": "Python 3",
   "language": "python",
   "name": "orchest-kernel-de413fa4-dbc7-4d6a-9008-ca5faf512fe7"
  },
  "language_info": {
   "codemirror_mode": {
    "name": "ipython",
    "version": 3
   },
   "file_extension": ".py",
   "mimetype": "text/x-python",
   "name": "python",
   "nbconvert_exporter": "python",
   "pygments_lexer": "ipython3",
   "version": "3.9.10"
  }
 },
 "nbformat": 4,
 "nbformat_minor": 5
}
