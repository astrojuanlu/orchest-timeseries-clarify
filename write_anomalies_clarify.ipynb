{
 "cells": [
  {
   "cell_type": "code",
   "execution_count": null,
   "metadata": {},
   "outputs": [],
   "source": [
    "import os\n",
    "\n",
    "from pyclarify import ClarifyClient, DataFrame as ClarifyDataFrame\n",
    "import orchest"
   ]
  },
  {
   "cell_type": "code",
   "execution_count": null,
   "metadata": {},
   "outputs": [],
   "source": [
    "has_anomalies, anomalies = orchest.get_inputs()[\"anomalies\"]\n",
    "item_name = orchest.get_step_param(\"item_name\")"
   ]
  },
  {
   "cell_type": "code",
   "execution_count": null,
   "metadata": {},
   "outputs": [],
   "source": [
    "if has_anomalies:\n",
    "    credentials = os.environ[\"CLARIFY_CREDENTIALS\"]\n",
    "    client = ClarifyClient(credentials)\n",
    "\n",
    "    data = ClarifyDataFrame(\n",
    "        series={item_name: anomalies.values.tolist()},\n",
    "        times=anomalies.index.tolist()\n",
    "    )\n",
    "    response = client.insert(data)\n",
    "    print(response.json())\n",
    "else:\n",
    "    print(\"No anomalies detected, skipping\")"
   ]
  },
  {
   "cell_type": "code",
   "execution_count": null,
   "metadata": {},
   "outputs": [],
   "source": []
  }
 ],
 "metadata": {
  "kernelspec": {
   "display_name": "Python 3",
   "language": "python",
   "name": "orchest-kernel-de413fa4-dbc7-4d6a-9008-ca5faf512fe7"
  },
  "language_info": {
   "codemirror_mode": {
    "name": "ipython",
    "version": 3
   },
   "file_extension": ".py",
   "mimetype": "text/x-python",
   "name": "python",
   "nbconvert_exporter": "python",
   "pygments_lexer": "ipython3",
   "version": "3.9.10"
  }
 },
 "nbformat": 4,
 "nbformat_minor": 4
}
